{
 "cells": [
  {
   "cell_type": "code",
   "execution_count": 1,
   "id": "501b305d",
   "metadata": {},
   "outputs": [],
   "source": [
    "p)import nltk \n",
    "p)import string  \n",
    "p)import re\n",
    "p)from nltk.stem import PorterStemmer"
   ]
  },
  {
   "cell_type": "code",
   "execution_count": 2,
   "id": "db1d2415",
   "metadata": {},
   "outputs": [],
   "source": [
    "/load the IMDB csv file size 31MB\n",
    "\n",
    "df:(\"***\";enlist csv)0:`:/home/senthil/Data/Ed/repo/mlnotebooks/data/IMBD.csv"
   ]
  },
  {
   "cell_type": "code",
   "execution_count": 3,
   "id": "a82c5f7d",
   "metadata": {},
   "outputs": [
    {
     "data": {
      "text/plain": [
       "`comment`tgt`ind\n"
      ]
     },
     "execution_count": 3,
     "metadata": {},
     "output_type": "execute_result"
    }
   ],
   "source": [
    "cols df"
   ]
  },
  {
   "cell_type": "code",
   "execution_count": 4,
   "id": "07706c03",
   "metadata": {},
   "outputs": [
    {
     "data": {
      "text/plain": [
       "\"If you like plot turns, this is your movie. It is impossible at any moment t..\n",
       "\"It's a real challenge to make a movie about a baby being devoured by wild ca..\n",
       "\"What a good film! Made Men is a great action movie with lots of twists and t..\n",
       "\"This is a movie that is bad in every imaginable way. Sure we like to know wh..\n",
       "\"There is something special about the Austrian movies not only by Seidl, but ..\n",
       "\"I never bothered to see this movie in theaters although I remember hearing t..\n",
       "\"Well.......in contrast to other comments previously written I have to say th..\n",
       "\"Unfortunately the movie is more concerned with making lame social commentary..\n",
       "\"This is one of the worst B slashers I've ever seen in my life. The ending is..\n",
       "\"\\\"Film noir\\\" is an overused expression when it comes to describing films. E..\n",
       "\"In the questionable comedy vein of Mel Brooks, \\\"Wholly Moses!\\\" tries to ta..\n",
       "\"I loved this film. I thought it would be easy to watch, and easy to forget. ..\n",
       "\"Growing up in a multi racial neighborhood back in the 20's and 30's, I grew ..\n",
       "\"While the original First Blood had its far-fetched moments, it was at least ..\n",
       "\"This movie will kick your ass! Powerful acting in a story that pushes all of..\n",
       "\"John Heder was absolutely horrendous in this movie. I felt like I was watchi..\n",
       "\"I recently bought the DVD, forgetting just how much I hated the movie versio..\n",
       "\"I've always knew Anne DeSalvo was a great character actor, now I know she is..\n",
       "\"I just can't agree with the above comment - there's lots of interesting and ..\n",
       "\"A bloody maniac with cannibalistic tendencies rapes a woman. He's been shot ..\n",
       "\"First of all this was not a three hour movie - Two hours, ten minutes... las..\n",
       "\"the intention the directors has for this films are quite honorable, but his ..\n",
       "..\n"
      ]
     },
     "execution_count": 4,
     "metadata": {},
     "output_type": "execute_result"
    }
   ],
   "source": [
    "df[`comment]"
   ]
  },
  {
   "cell_type": "code",
   "execution_count": 5,
   "id": "b7596aa3",
   "metadata": {},
   "outputs": [],
   "source": [
    "punctuations:.p.qeval\"string.punctuation\""
   ]
  },
  {
   "cell_type": "code",
   "execution_count": 6,
   "id": "eef323a4",
   "metadata": {},
   "outputs": [],
   "source": [
    "stop_words : `a,`$(\"\\n\" vs .Q.hg\"https://algs4.cs.princeton.edu/35applications/stopwords.txt\")"
   ]
  },
  {
   "cell_type": "code",
   "execution_count": 8,
   "id": "5fecf87c",
   "metadata": {},
   "outputs": [],
   "source": [
    "tokens:{(lower(`$(\" \" vs (x except punctuations)))) except stop_words}\n",
    "\n",
    "p)stemmer = PorterStemmer()\n",
    "stemming:{[x] `$.p.qeval raze \"stemmer.stem('\",string x,\"')\"}"
   ]
  },
  {
   "cell_type": "code",
   "execution_count": 17,
   "id": "726779d6",
   "metadata": {},
   "outputs": [],
   "source": [
    "/\" \" vs df[`comment][1]\n",
    "\n",
    "l:{stemming'[tokens df[`comment][x]]}'[til 10]"
   ]
  },
  {
   "cell_type": "code",
   "execution_count": 22,
   "id": "68c1f264",
   "metadata": {},
   "outputs": [],
   "source": [
    "ngram:{[x;n] i:0;l:();do[((count x) - n)+1;l:l,enlist (i+til n);i+:1];x[l]}"
   ]
  },
  {
   "cell_type": "code",
   "execution_count": 23,
   "id": "37c0c799",
   "metadata": {},
   "outputs": [
    {
     "data": {
      "text/plain": [
       "plot    turn   \n",
       "turn    movi   \n",
       "movi    imposs \n",
       "imposs  moment \n",
       "moment  predict\n",
       "predict happen \n",
       "happen  appear \n",
       "appear  end    \n",
       "end     charact\n",
       "charact gritti \n",
       "gritti  engag  \n",
       "engag   cage   \n",
       "cage    denni  \n",
       "denni   hopper \n",
       "hopper  show   \n",
       "show    delight\n",
       "delight sinist \n",
       "sinist  side   \n",
       "side    jt     \n",
       "jt      walsh  \n",
       "walsh   perfect\n",
       "perfect perform\n",
       "..\n"
      ]
     },
     "execution_count": 23,
     "metadata": {},
     "output_type": "execute_result"
    }
   ],
   "source": [
    "ngram [l[0];2]"
   ]
  },
  {
   "cell_type": "code",
   "execution_count": 27,
   "id": "c3f91cd5",
   "metadata": {},
   "outputs": [
    {
     "data": {
      "text/plain": [
       "\"plot\"\n",
       "\"turn\"\n",
       "\"movi\"\n",
       "\"imposs\"\n",
       "\"moment\"\n",
       "\"predict\"\n",
       "\"happen\"\n",
       "\"appear\"\n",
       "\"end\"\n",
       "\"charact\"\n",
       "\"gritti\"\n",
       "\"engag\"\n",
       "\"cage\"\n",
       "\"denni\"\n",
       "\"hopper\"\n",
       "\"show\"\n",
       "\"delight\"\n",
       "\"sinist\"\n",
       "\"side\"\n",
       "\"jt\"\n",
       "\"walsh\"\n",
       "\"perfect\"\n",
       "..\n"
      ]
     },
     "execution_count": 27,
     "metadata": {},
     "output_type": "execute_result"
    }
   ],
   "source": [
    "{\" \" sv string x}'[ngram[l[0];1]]"
   ]
  },
  {
   "cell_type": "code",
   "execution_count": null,
   "id": "ca09aca2",
   "metadata": {},
   "outputs": [],
   "source": []
  },
  {
   "cell_type": "code",
   "execution_count": null,
   "id": "fec6fb64",
   "metadata": {},
   "outputs": [],
   "source": []
  },
  {
   "cell_type": "code",
   "execution_count": null,
   "id": "371bef53",
   "metadata": {},
   "outputs": [],
   "source": []
  },
  {
   "cell_type": "code",
   "execution_count": null,
   "id": "72c9ff3f",
   "metadata": {},
   "outputs": [],
   "source": []
  },
  {
   "cell_type": "code",
   "execution_count": null,
   "id": "4e84def4",
   "metadata": {},
   "outputs": [],
   "source": []
  },
  {
   "cell_type": "code",
   "execution_count": 114,
   "id": "e8de7e2a",
   "metadata": {},
   "outputs": [],
   "source": [
    "ngram_idx:{[n] i:0;do[(10 - n)+1;(i+til n);i+:1]}"
   ]
  },
  {
   "cell_type": "code",
   "execution_count": 124,
   "id": "2fd8383d",
   "metadata": {},
   "outputs": [],
   "source": [
    "i:()\n",
    "x:0\n",
    "n:2\n",
    "do[(10 - n)+1;i:i,enlist (x+til n);x+:1]"
   ]
  },
  {
   "cell_type": "code",
   "execution_count": null,
   "id": "e6c219d0",
   "metadata": {},
   "outputs": [],
   "source": []
  },
  {
   "cell_type": "code",
   "execution_count": 139,
   "id": "e20b212f",
   "metadata": {},
   "outputs": [],
   "source": [
    "ngram:{[n] i:0;l:();do[(10 - n)+1;l:l,enlist (i+til n);i+:1];:l}"
   ]
  },
  {
   "cell_type": "code",
   "execution_count": 140,
   "id": "73bcd3be",
   "metadata": {},
   "outputs": [
    {
     "data": {
      "text/plain": [
       "0 1 2\n",
       "1 2 3\n",
       "2 3 4\n",
       "3 4 5\n",
       "4 5 6\n",
       "5 6 7\n",
       "6 7 8\n",
       "7 8 9\n"
      ]
     },
     "execution_count": 140,
     "metadata": {},
     "output_type": "execute_result"
    }
   ],
   "source": [
    "ngram 3"
   ]
  },
  {
   "cell_type": "code",
   "execution_count": 138,
   "id": "246e95dd",
   "metadata": {},
   "outputs": [
    {
     "data": {
      "text/plain": [
       "plot    turn    movi   \n",
       "turn    movi    imposs \n",
       "movi    imposs  moment \n",
       "imposs  moment  predict\n",
       "moment  predict happen \n",
       "predict happen  appear \n",
       "happen  appear  end    \n",
       "appear  end     charact\n"
      ]
     },
     "execution_count": 138,
     "metadata": {},
     "output_type": "execute_result"
    }
   ],
   "source": [
    "l[ngram 3]"
   ]
  },
  {
   "cell_type": "code",
   "execution_count": 142,
   "id": "5c01a5f2",
   "metadata": {},
   "outputs": [],
   "source": [
    "ngram:{[x;n] i:0;l:();do[((count x) - n)+1;l:l,enlist (i+til n);i+:1];x[l]}"
   ]
  },
  {
   "cell_type": "code",
   "execution_count": 143,
   "id": "55c97a47",
   "metadata": {},
   "outputs": [
    {
     "data": {
      "text/plain": [
       "plot    turn    movi   \n",
       "turn    movi    imposs \n",
       "movi    imposs  moment \n",
       "imposs  moment  predict\n",
       "moment  predict happen \n",
       "predict happen  appear \n",
       "happen  appear  end    \n",
       "appear  end     charact\n",
       "end     charact gritti \n",
       "charact gritti  engag  \n",
       "gritti  engag   cage   \n",
       "engag   cage    denni  \n",
       "cage    denni   hopper \n",
       "denni   hopper  show   \n",
       "hopper  show    delight\n",
       "show    delight sinist \n",
       "delight sinist  side   \n",
       "sinist  side    jt     \n",
       "side    jt      walsh  \n",
       "jt      walsh   perfect\n",
       "walsh   perfect perform\n",
       "perfect perform laura  \n",
       "..\n"
      ]
     },
     "execution_count": 143,
     "metadata": {},
     "output_type": "execute_result"
    }
   ],
   "source": [
    "ngram [l;3]"
   ]
  },
  {
   "cell_type": "code",
   "execution_count": 145,
   "id": "029fed13",
   "metadata": {},
   "outputs": [
    {
     "data": {
      "text/plain": [
       "\"plot_turn_movi\"\n",
       "\"turn_movi_imposs\"\n",
       "\"movi_imposs_moment\"\n",
       "\"imposs_moment_predict\"\n",
       "\"moment_predict_happen\"\n",
       "\"predict_happen_appear\"\n",
       "\"happen_appear_end\"\n",
       "\"appear_end_charact\"\n",
       "\"end_charact_gritti\"\n",
       "\"charact_gritti_engag\"\n",
       "\"gritti_engag_cage\"\n",
       "\"engag_cage_denni\"\n",
       "\"cage_denni_hopper\"\n",
       "\"denni_hopper_show\"\n",
       "\"hopper_show_delight\"\n",
       "\"show_delight_sinist\"\n",
       "\"delight_sinist_side\"\n",
       "\"sinist_side_jt\"\n",
       "\"side_jt_walsh\"\n",
       "\"jt_walsh_perfect\"\n",
       "\"walsh_perfect_perform\"\n",
       "\"perfect_perform_laura\"\n",
       "..\n"
      ]
     },
     "execution_count": 145,
     "metadata": {},
     "output_type": "execute_result"
    }
   ],
   "source": [
    "{\"_\" sv string x}'[ngram[l;3]]"
   ]
  },
  {
   "cell_type": "code",
   "execution_count": 162,
   "id": "14f6acf4",
   "metadata": {},
   "outputs": [
    {
     "name": "stdout",
     "output_type": "stream",
     "text": [
      "k){x'y}[(`plot`turns`movie`impossible`moment`predict`happen`appears`ends`char..\n"
     ]
    }
   ],
   "source": [
    "{show x}each each [tokens'[df[`comment]]]"
   ]
  },
  {
   "cell_type": "code",
   "execution_count": null,
   "id": "6365bf1c",
   "metadata": {},
   "outputs": [],
   "source": []
  }
 ],
 "metadata": {
  "kernelspec": {
   "display_name": "Q (kdb+)",
   "language": "q",
   "name": "qpk"
  },
  "language_info": {
   "file_extension": ".q",
   "mimetype": "text/x-q",
   "name": "q",
   "version": "4.0"
  }
 },
 "nbformat": 4,
 "nbformat_minor": 5
}
