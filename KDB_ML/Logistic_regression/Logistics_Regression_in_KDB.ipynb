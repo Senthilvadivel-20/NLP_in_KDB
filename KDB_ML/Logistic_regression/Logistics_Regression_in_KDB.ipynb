{
 "cells": [
  {
   "cell_type": "code",
   "execution_count": 1,
   "id": "e1bf7eda",
   "metadata": {},
   "outputs": [],
   "source": [
    "p)import nltk \n",
    "p)import string  \n",
    "p)import re\n",
    "p)from nltk.stem import PorterStemmer"
   ]
  },
  {
   "cell_type": "markdown",
   "id": "cf61c1cc",
   "metadata": {},
   "source": [
    "# Data Perprocessing"
   ]
  },
  {
   "cell_type": "code",
   "execution_count": 9,
   "id": "b406d277",
   "metadata": {},
   "outputs": [],
   "source": [
    "stop_words: read0 `:/home/senthil/Data/notebook/NLP/NLP_Explore_KDB/data/english"
   ]
  },
  {
   "cell_type": "code",
   "execution_count": 10,
   "id": "a2515b78",
   "metadata": {},
   "outputs": [
    {
     "data": {
      "text/plain": [
       "179\n"
      ]
     },
     "execution_count": 10,
     "metadata": {},
     "output_type": "execute_result"
    }
   ],
   "source": [
    "count stop_words"
   ]
  },
  {
   "cell_type": "code",
   "execution_count": 11,
   "id": "d3937062",
   "metadata": {},
   "outputs": [],
   "source": [
    "/ Get the all punctuations from python's string module\n",
    "/punctuations:.p.qeval\"string.punctuation\"\n",
    "punctuations:\"!\\\"#$%&'()*+,-./:;<=>?@[\\\\]^_`{|}~\""
   ]
  },
  {
   "cell_type": "code",
   "execution_count": 12,
   "id": "c1d77586",
   "metadata": {},
   "outputs": [
    {
     "data": {
      "text/plain": [
       ",\"i\"\n",
       "\"me\"\n",
       "\"my\"\n",
       "\"myself\"\n",
       "\"we\"\n",
       "\"our\"\n",
       "\"ours\"\n",
       "\"ourselves\"\n",
       "\"you\"\n",
       "\"you're\"\n",
       "\"you've\"\n",
       "\"you'll\"\n",
       "\"you'd\"\n",
       "\"your\"\n",
       "\"yours\"\n",
       "\"yourself\"\n",
       "\"yourselves\"\n",
       "\"he\"\n",
       "\"him\"\n",
       "\"his\"\n",
       "\"himself\"\n",
       "\"she\"\n",
       "..\n"
      ]
     },
     "execution_count": 12,
     "metadata": {},
     "output_type": "execute_result"
    }
   ],
   "source": [
    "stop_words"
   ]
  },
  {
   "cell_type": "markdown",
   "id": "ab2c0a7e",
   "metadata": {},
   "source": [
    "# Reading Json"
   ]
  },
  {
   "cell_type": "code",
   "execution_count": 31,
   "id": "d78f700c",
   "metadata": {},
   "outputs": [],
   "source": [
    "/Positive\n",
    "l:(read0 `:/home/senthil/Data/notebook/NLP/NLP_Explore_KDB/data/twitter_samples/positive_tweets.json)\n",
    "df1 : (uj/){(enlist .j.k x)}'[l]"
   ]
  },
  {
   "cell_type": "code",
   "execution_count": 32,
   "id": "579d33b1",
   "metadata": {},
   "outputs": [],
   "source": [
    "df1: select text from df1;\n",
    "update text:lower(text) from `df1;\n",
    "update sentiment:1 from `df1;"
   ]
  },
  {
   "cell_type": "code",
   "execution_count": 33,
   "id": "26c65ad6",
   "metadata": {},
   "outputs": [
    {
     "data": {
      "text/plain": [
       "text                                                                         ..\n",
       "-----------------------------------------------------------------------------..\n",
       "\"#followfriday @france_inte @pkuchly57 @milipol_paris for being top engaged m..\n",
       "\"@lamb2ja hey james! how odd :/ please call our contact centre on 02392441234..\n",
       "\"@despiteofficial we had a listen last night :) as you bleed is an amazing tr..\n"
      ]
     },
     "execution_count": 33,
     "metadata": {},
     "output_type": "execute_result"
    }
   ],
   "source": [
    "3#df1"
   ]
  },
  {
   "cell_type": "code",
   "execution_count": 34,
   "id": "aea43503",
   "metadata": {},
   "outputs": [],
   "source": [
    "/Negative\n",
    "l:(read0 `:/home/senthil/Data/notebook/NLP/NLP_Explore_KDB/data/twitter_samples/negative_tweets.json)\n",
    "df2 : (uj/){(enlist .j.k x)}'[l]\n",
    "update text:lower(text) from `df2;\n",
    "df2: select text from df2;\n",
    "update sentiment:0 from `df2;"
   ]
  },
  {
   "cell_type": "code",
   "execution_count": 35,
   "id": "4cd56f82",
   "metadata": {},
   "outputs": [],
   "source": [
    "df : df1 uj df2"
   ]
  },
  {
   "cell_type": "code",
   "execution_count": 36,
   "id": "026ae2e7",
   "metadata": {},
   "outputs": [
    {
     "data": {
      "text/plain": [
       "10000\n"
      ]
     },
     "execution_count": 36,
     "metadata": {},
     "output_type": "execute_result"
    }
   ],
   "source": [
    "count df"
   ]
  },
  {
   "cell_type": "markdown",
   "id": "3f21053b",
   "metadata": {},
   "source": [
    "## Process tweet function"
   ]
  },
  {
   "cell_type": "code",
   "execution_count": 37,
   "id": "68e82c7f",
   "metadata": {},
   "outputs": [],
   "source": [
    "/preprocessing\n",
    "stemmer:{\n",
    "    suffixes : (\"*ing\";\"*ly\";\"*s\";\"*ed\";\"*ious\";\"*ies\";\"*ive\";\"*es\";\"*ment\");\n",
    "    if[(count x) < 3; :(x); :(::)];\n",
    "    suf: suffixes where ((x like/:) suffixes);\n",
    "    x: (1 - (count each suf))[0] _ x;\n",
    "    :x\n",
    "    };\n",
    "\n",
    "Remove_junk:{[tweet]\n",
    "    l:\" \" vs tweet;\n",
    "    l:l where not any l like/: (\"$*\";\"http*\");\n",
    "    tweet: \" \" sv l;\n",
    "    tweet: tweet except punctuations;\n",
    "    :tweet\n",
    "    };\n",
    "\n",
    "preprocessing:{[tweet]\n",
    "    tweet:Remove_junk tweet;\n",
    "    :(\" \" vs tweet)\n",
    "    };\n",
    "\n",
    "preprocess_nd_stem:{{.[stemmer;enlist x;x]}'[(preprocessing x) except stop_words]};"
   ]
  },
  {
   "cell_type": "code",
   "execution_count": 38,
   "id": "078c1ab3",
   "metadata": {},
   "outputs": [],
   "source": [
    "update words:preprocess_nd_stem'[text] from `df;"
   ]
  },
  {
   "cell_type": "code",
   "execution_count": 39,
   "id": "0a0e3839",
   "metadata": {},
   "outputs": [
    {
     "data": {
      "text/plain": [
       "(\"followfriday\";\"franceinte\";\"pkuchly57\";\"milipolpari\";\"top\";\"engag\";\"member\"..\n",
       "(\"lamb2ja\";\"hey\";\"jame\";\"odd\";\"\";\"please\";\"call\";\"contact\";\"centre\";\"02392441..\n",
       "(\"despiteofficial\";\"listen\";\"last\";\"night\";\"\";\"ble\";\"amaz\";\"track\";\"scotland\")\n"
      ]
     },
     "execution_count": 39,
     "metadata": {},
     "output_type": "execute_result"
    }
   ],
   "source": [
    "3#df[`words]"
   ]
  },
  {
   "cell_type": "code",
   "execution_count": 40,
   "id": "f50e733c",
   "metadata": {},
   "outputs": [],
   "source": [
    "word_count: desc count each group (raze {[x] sent::df[x][`sentiment];{(x;sent)}'[ df[x][`words]]}'[til count df])"
   ]
  },
  {
   "cell_type": "code",
   "execution_count": 41,
   "id": "245684ba",
   "metadata": {},
   "outputs": [
    {
     "data": {
      "text/plain": [
       "\"\"       0| 5699\n",
       "\"\"       1| 5274\n",
       "\"thank\"  1| 622\n",
       "\"im\"     0| 468\n",
       "\"follow\" 1| 362\n",
       "\"love\"   1| 340\n",
       "\"want\"   0| 244\n",
       "\"day\"    1| 240\n",
       ",\"u\"     1| 240\n",
       "\"mis\"    0| 237\n",
       "\"im\"     1| 234\n",
       "\"please\" 0| 233\n",
       "\"good\"   1| 231\n",
       "\"dont\"   0| 228\n",
       "\"cant\"   0| 226\n",
       "\"follow\" 0| 225\n",
       "\"go\"     0| 221\n",
       "\"like\"   1| 220\n",
       "\"like\"   0| 209\n",
       "\"happy\"  1| 193\n",
       "\"get\"    0| 188\n",
       ",\"u\"     0| 188\n",
       "..\n"
      ]
     },
     "execution_count": 41,
     "metadata": {},
     "output_type": "execute_result"
    }
   ],
   "source": [
    "word_count"
   ]
  },
  {
   "cell_type": "code",
   "execution_count": null,
   "id": "f230f569",
   "metadata": {},
   "outputs": [],
   "source": []
  }
 ],
 "metadata": {
  "kernelspec": {
   "display_name": "Q (kdb+)",
   "language": "q",
   "name": "qpk"
  },
  "language_info": {
   "file_extension": ".q",
   "mimetype": "text/x-q",
   "name": "q",
   "version": "4.0"
  }
 },
 "nbformat": 4,
 "nbformat_minor": 5
}
