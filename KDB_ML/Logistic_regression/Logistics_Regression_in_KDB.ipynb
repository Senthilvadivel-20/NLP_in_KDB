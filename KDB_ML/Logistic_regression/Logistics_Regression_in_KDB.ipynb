{
 "cells": [
  {
   "cell_type": "code",
   "execution_count": 1,
   "id": "e1bf7eda",
   "metadata": {},
   "outputs": [],
   "source": [
    "p)import nltk \n",
    "p)import string  \n",
    "p)import re\n",
    "p)from nltk.stem import PorterStemmer"
   ]
  },
  {
   "cell_type": "markdown",
   "id": "cf61c1cc",
   "metadata": {},
   "source": [
    "# Data Perprocessing"
   ]
  },
  {
   "cell_type": "code",
   "execution_count": 2,
   "id": "b406d277",
   "metadata": {},
   "outputs": [],
   "source": [
    "stop_words: read0 `:/home/senthil/Data/notebook/NLP/NLP_Explore_KDB/data/english"
   ]
  },
  {
   "cell_type": "code",
   "execution_count": 3,
   "id": "a2515b78",
   "metadata": {},
   "outputs": [
    {
     "data": {
      "text/plain": [
       "179\n"
      ]
     },
     "execution_count": 3,
     "metadata": {},
     "output_type": "execute_result"
    }
   ],
   "source": [
    "count stop_words"
   ]
  },
  {
   "cell_type": "code",
   "execution_count": 4,
   "id": "d3937062",
   "metadata": {},
   "outputs": [],
   "source": [
    "/ Get the all punctuations from python's string module\n",
    "punctuations:.p.qeval\"string.punctuation\""
   ]
  },
  {
   "cell_type": "code",
   "execution_count": 6,
   "id": "c1d77586",
   "metadata": {},
   "outputs": [],
   "source": [
    "stemmer:{\n",
    "    suffixes : (\"*ing\";\"*ly\";\"*s\";\"*ed\";\"*ious\";\"*ies\";\"*ive\";\"*es\";\"*ment\");\n",
    "    if[(count x) < 3; :(x); :(::)];\n",
    "    suf: suffixes where ((x like/:) suffixes);\n",
    "    x: (1 - (count each suf))[0] _ x;\n",
    "    :x\n",
    "    }"
   ]
  },
  {
   "cell_type": "code",
   "execution_count": null,
   "id": "10e17838",
   "metadata": {},
   "outputs": [],
   "source": []
  },
  {
   "cell_type": "markdown",
   "id": "3f21053b",
   "metadata": {},
   "source": [
    "## Process tweet function"
   ]
  },
  {
   "cell_type": "code",
   "execution_count": 18,
   "id": "68e82c7f",
   "metadata": {},
   "outputs": [],
   "source": []
  },
  {
   "cell_type": "code",
   "execution_count": null,
   "id": "078c1ab3",
   "metadata": {},
   "outputs": [],
   "source": []
  },
  {
   "cell_type": "code",
   "execution_count": null,
   "id": "0a0e3839",
   "metadata": {},
   "outputs": [],
   "source": []
  }
 ],
 "metadata": {
  "kernelspec": {
   "display_name": "Q (kdb+)",
   "language": "q",
   "name": "qpk"
  },
  "language_info": {
   "file_extension": ".q",
   "mimetype": "text/x-q",
   "name": "q",
   "version": "4.0"
  }
 },
 "nbformat": 4,
 "nbformat_minor": 5
}
