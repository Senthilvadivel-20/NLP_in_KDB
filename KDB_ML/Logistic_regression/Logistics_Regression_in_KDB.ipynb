{
 "cells": [
  {
   "cell_type": "code",
   "execution_count": 1,
   "id": "e1bf7eda",
   "metadata": {},
   "outputs": [],
   "source": [
    "p)import nltk \n",
    "p)import string  \n",
    "p)import re\n",
    "p)from nltk.stem import PorterStemmer"
   ]
  },
  {
   "cell_type": "markdown",
   "id": "cf61c1cc",
   "metadata": {},
   "source": [
    "# Data Perprocessing"
   ]
  },
  {
   "cell_type": "code",
   "execution_count": 2,
   "id": "b406d277",
   "metadata": {},
   "outputs": [],
   "source": [
    "stop_words: read0 `:/home/senthil/Data/notebook/NLP/NLP_Explore_KDB/data/english"
   ]
  },
  {
   "cell_type": "code",
   "execution_count": 3,
   "id": "a2515b78",
   "metadata": {},
   "outputs": [
    {
     "data": {
      "text/plain": [
       "179\n"
      ]
     },
     "execution_count": 3,
     "metadata": {},
     "output_type": "execute_result"
    }
   ],
   "source": [
    "count stop_words"
   ]
  },
  {
   "cell_type": "code",
   "execution_count": 4,
   "id": "d3937062",
   "metadata": {},
   "outputs": [],
   "source": [
    "/ Get the all punctuations from python's string module\n",
    "punctuations:.p.qeval\"string.punctuation\""
   ]
  },
  {
   "cell_type": "code",
   "execution_count": 6,
   "id": "c1d77586",
   "metadata": {},
   "outputs": [],
   "source": []
  },
  {
   "cell_type": "markdown",
   "id": "ab2c0a7e",
   "metadata": {},
   "source": [
    "# Reading Json"
   ]
  },
  {
   "cell_type": "code",
   "execution_count": 22,
   "id": "d78f700c",
   "metadata": {},
   "outputs": [],
   "source": [
    "/Positive\n",
    "l:(read0 `:/home/senthil/Data/notebook/NLP/NLP_Explore_KDB/data/twitter_samples/positive_tweets.json)\n",
    "df1 : (uj/){(enlist .j.k x)}'[l]"
   ]
  },
  {
   "cell_type": "code",
   "execution_count": 23,
   "id": "579d33b1",
   "metadata": {},
   "outputs": [],
   "source": [
    "df1: select text from df1;\n",
    "update sentiment:1 from `df1;"
   ]
  },
  {
   "cell_type": "code",
   "execution_count": 24,
   "id": "26c65ad6",
   "metadata": {},
   "outputs": [
    {
     "data": {
      "text/plain": [
       "text                                                                         ..\n",
       "-----------------------------------------------------------------------------..\n",
       "\"#FollowFriday @France_Inte @PKuchly57 @Milipol_Paris for being top engaged m..\n",
       "\"@Lamb2ja Hey James! How odd :/ Please call our Contact Centre on 02392441234..\n",
       "\"@DespiteOfficial we had a listen last night :) As You Bleed is an amazing tr..\n"
      ]
     },
     "execution_count": 24,
     "metadata": {},
     "output_type": "execute_result"
    }
   ],
   "source": [
    "3#df1"
   ]
  },
  {
   "cell_type": "code",
   "execution_count": 25,
   "id": "aea43503",
   "metadata": {},
   "outputs": [],
   "source": [
    "/Negative\n",
    "l:(read0 `:/home/senthil/Data/notebook/NLP/NLP_Explore_KDB/data/twitter_samples/negative_tweets.json)\n",
    "df2 : (uj/){(enlist .j.k x)}'[l]\n",
    "df2: select text from df2;\n",
    "update sentiment:0 from `df2;"
   ]
  },
  {
   "cell_type": "code",
   "execution_count": 26,
   "id": "4cd56f82",
   "metadata": {},
   "outputs": [],
   "source": [
    "df : df1 uj df2"
   ]
  },
  {
   "cell_type": "code",
   "execution_count": 27,
   "id": "026ae2e7",
   "metadata": {},
   "outputs": [
    {
     "data": {
      "text/plain": [
       "10000\n"
      ]
     },
     "execution_count": 27,
     "metadata": {},
     "output_type": "execute_result"
    }
   ],
   "source": [
    "count df"
   ]
  },
  {
   "cell_type": "markdown",
   "id": "3f21053b",
   "metadata": {},
   "source": [
    "## Process tweet function"
   ]
  },
  {
   "cell_type": "code",
   "execution_count": 28,
   "id": "68e82c7f",
   "metadata": {},
   "outputs": [],
   "source": [
    "/preprocessing\n",
    "stemmer:{\n",
    "    suffixes : (\"*ing\";\"*ly\";\"*s\";\"*ed\";\"*ious\";\"*ies\";\"*ive\";\"*es\";\"*ment\");\n",
    "    if[(count x) < 3; :(x); :(::)];\n",
    "    suf: suffixes where ((x like/:) suffixes);\n",
    "    x: (1 - (count each suf))[0] _ x;\n",
    "    :x\n",
    "    };\n",
    "\n",
    "Remove_junk:{[tweet]\n",
    "    l:\" \" vs tweet;\n",
    "    l:l where not any l like/: (\"$*\";\"http*\");\n",
    "    tweet: \" \" sv l;\n",
    "    tweet: tweet except \"#\";\n",
    "    :tweet\n",
    "    };\n",
    "\n",
    "preprocessing:{[tweet]\n",
    "    tweet:Remove_junk tweet;\n",
    "    :(\" \" vs tweet)\n",
    "    };\n",
    "\n",
    "preprocess_nd_stem:{{.[stemmer;enlist x;x]}'[preprocessing x]};"
   ]
  },
  {
   "cell_type": "code",
   "execution_count": 29,
   "id": "078c1ab3",
   "metadata": {},
   "outputs": [],
   "source": [
    "update words:preprocess_nd_stem'[text] from `df;"
   ]
  },
  {
   "cell_type": "code",
   "execution_count": 37,
   "id": "0a0e3839",
   "metadata": {},
   "outputs": [
    {
     "data": {
      "text/plain": [
       "(\"FollowFriday\";\"@France_Inte\";\"@PKuchly57\";\"@Milipol_Pari\";\"for\";\"be\";\"top\";..\n",
       "(\"@Lamb2ja\";\"Hey\";\"James!\";\"How\";\"odd\";\":/\";\"Please\";\"call\";\"our\";\"Contact\";\"..\n",
       "(\"@DespiteOfficial\";\"we\";\"had\";,\"a\";\"listen\";\"last\";\"night\";\":)\";\"As\";\"You\";\"..\n"
      ]
     },
     "execution_count": 37,
     "metadata": {},
     "output_type": "execute_result"
    }
   ],
   "source": [
    "3#df[`words]"
   ]
  },
  {
   "cell_type": "code",
   "execution_count": 58,
   "id": "f50e733c",
   "metadata": {},
   "outputs": [],
   "source": [
    "word_count: desc count each group (raze {[x] sent::df[x][`sentiment];{(x;sent)}'[ df[x][`words]]}'[til count df])"
   ]
  },
  {
   "cell_type": "code",
   "execution_count": 59,
   "id": "245684ba",
   "metadata": {},
   "outputs": [
    {
     "data": {
      "text/plain": [
       "\":(\"  0| 3723\n",
       "\":)\"  1| 3154\n",
       ",\"I\"  0| 1490\n",
       "\"you\" 1| 1205\n",
       "\"to\"  0| 1062\n",
       "\"to\"  1| 1054\n",
       "\"the\" 1| 994\n",
       ",\"a\"  1| 877\n",
       ",\"I\"  1| 844\n",
       "\"the\" 0| 844\n",
       "\"for\" 1| 747\n",
       "\"and\" 1| 647\n",
       "\"my\"  0| 626\n",
       ",\"a\"  0| 625\n",
       "\":-)\" 1| 615\n",
       "\"and\" 0| 611\n",
       "\":D\"  1| 609\n",
       ",\"i\"  0| 604\n",
       "\"you\" 0| 589\n",
       "\"my\"  1| 480\n",
       "\"in\"  1| 477\n",
       "\"it\"  0| 466\n",
       "..\n"
      ]
     },
     "execution_count": 59,
     "metadata": {},
     "output_type": "execute_result"
    }
   ],
   "source": [
    "word_count"
   ]
  },
  {
   "cell_type": "code",
   "execution_count": null,
   "id": "f230f569",
   "metadata": {},
   "outputs": [],
   "source": []
  }
 ],
 "metadata": {
  "kernelspec": {
   "display_name": "Q (kdb+)",
   "language": "q",
   "name": "qpk"
  },
  "language_info": {
   "file_extension": ".q",
   "mimetype": "text/x-q",
   "name": "q",
   "version": "4.0"
  }
 },
 "nbformat": 4,
 "nbformat_minor": 5
}
