{
 "cells": [
  {
   "cell_type": "markdown",
   "id": "bafcb687",
   "metadata": {},
   "source": [
    "## Split functions "
   ]
  },
  {
   "cell_type": "code",
   "execution_count": null,
   "id": "c9f004c7",
   "metadata": {},
   "outputs": [],
   "source": []
  }
 ],
 "metadata": {
  "kernelspec": {
   "display_name": "Q (kdb+)",
   "language": "q",
   "name": "qpk"
  },
  "language_info": {
   "file_extension": ".q",
   "mimetype": "text/x-q",
   "name": "q",
   "version": "4.0"
  }
 },
 "nbformat": 4,
 "nbformat_minor": 5
}
