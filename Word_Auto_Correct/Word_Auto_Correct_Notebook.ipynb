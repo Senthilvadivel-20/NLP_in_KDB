{
 "cells": [
  {
   "cell_type": "markdown",
   "id": "2e756876",
   "metadata": {},
   "source": [
    "## Auto Correct"
   ]
  },
  {
   "cell_type": "markdown",
   "id": "7c9fc42e",
   "metadata": {},
   "source": [
    "## Data Processing"
   ]
  },
  {
   "cell_type": "code",
   "execution_count": 20,
   "id": "2075842a",
   "metadata": {},
   "outputs": [],
   "source": [
    "/ Load the shakespeare.txt file from Data folder\n",
    "\n",
    "word_l: read0 `:./../data/shakespeare.txt\n",
    "\n",
    "alpha_chars : ((.Q.a),(.Q.n),(\"_\"));\n",
    "punctuations:\"!@#$%^&*()?:;,.`~<>+\\\"={|}/'\";\n",
    "word_l:(\" \" sv word_l)\n",
    "\n",
    "word_l:ssr/[word_l;punctuations;\" \"]\n",
    "word_l: \" \" vs word_l\n",
    "word_l: `$(lower(word_l except enlist\"\"))"
   ]
  },
  {
   "cell_type": "code",
   "execution_count": 27,
   "id": "321ca483",
   "metadata": {},
   "outputs": [],
   "source": [
    "/Get count function\n",
    "\n",
    "word_count_dict:count each group word_l\n",
    "probs: word_count_dict % (count word_count_dict)"
   ]
  },
  {
   "cell_type": "code",
   "execution_count": 29,
   "id": "4004bf5c",
   "metadata": {},
   "outputs": [
    {
     "data": {
      "text/plain": [
       "o        | 0.02486538\n",
       "for      | 0.07491289\n",
       "a        | 0.118942\n",
       "muse     | 0.002850808\n",
       "of       | 0.172949\n",
       "fire     | 0.003484321\n",
       "that     | 0.1240101\n",
       "would    | 0.02169781\n",
       "ascend   | 0.0001583782\n",
       "the      | 0.2408933\n",
       "brightest| 0.0003167564\n",
       "heaven   | 0.007602154\n",
       "invention| 0.001425404\n",
       "kingdom  | 0.0009502692\n",
       "stage    | 0.0004751346\n",
       "princes  | 0.0006335128\n",
       "to       | 0.1837187\n",
       "act      | 0.005543237\n",
       "and      | 0.2207792\n",
       "monarchs | 0.0003167564\n",
       "behold   | 0.002058917\n",
       "swelling | 0.0001583782\n",
       "..\n"
      ]
     },
     "execution_count": 29,
     "metadata": {},
     "output_type": "execute_result"
    }
   ],
   "source": [
    "probs"
   ]
  },
  {
   "cell_type": "code",
   "execution_count": null,
   "id": "a91e2064",
   "metadata": {},
   "outputs": [],
   "source": []
  },
  {
   "cell_type": "markdown",
   "id": "8c04df10",
   "metadata": {},
   "source": [
    "<a name='2'></a>\n",
    "## 2 - String Manipulations\n",
    "\n",
    "Now that you have computed $P(w_i)$ for all the words in the corpus, you will write a few functions to manipulate strings so that you can edit the erroneous strings and return the right spellings of the words. In this section, you will implement four functions: \n",
    "\n",
    "* `delete_letter`: given a word, it returns all the possible strings that have **one character removed**. \n",
    "* `switch_letter`: given a word, it returns all the possible strings that have **two adjacent letters switched**.\n",
    "* `replace_letter`: given a word, it returns all the possible strings that have **one character replaced by another different letter**.\n",
    "* `insert_letter`: given a word, it returns all the possible strings that have an **additional character inserted**. \n"
   ]
  },
  {
   "cell_type": "markdown",
   "id": "a1222cfc",
   "metadata": {},
   "source": [
    "<a name='ex-4'></a>\n",
    "### delete_letter\n",
    "\n",
    "**Instructions for delete_letter():** Implement a `delete_letter()` function that, given a word, returns a list of strings with one character deleted. \n",
    "\n",
    "For example, given the word **nice**, it would return the set: {'ice', 'nce', 'nic', 'nie'}. \n",
    "\n",
    "**Step 1:** Create a list of 'splits'. This is all the ways you can split a word into Left and Right: For example,   \n",
    "'nice is split into : `[('', 'nice'), ('n', 'ice'), ('ni', 'ce'), ('nic', 'e'), ('nice', '')]`\n",
    "This is common to all four functions (delete, replace, switch, insert).\n"
   ]
  },
  {
   "cell_type": "code",
   "execution_count": 36,
   "id": "f4391c68",
   "metadata": {},
   "outputs": [],
   "source": [
    "delete_letter: {(x except/: (x))}"
   ]
  },
  {
   "cell_type": "code",
   "execution_count": 38,
   "id": "3cef6421",
   "metadata": {},
   "outputs": [
    {
     "data": {
      "text/plain": [
       "\"ice\"\n",
       "\"nce\"\n",
       "\"nie\"\n",
       "\"nic\"\n"
      ]
     },
     "execution_count": 38,
     "metadata": {},
     "output_type": "execute_result"
    }
   ],
   "source": [
    "delete_letter \"nice\""
   ]
  },
  {
   "cell_type": "markdown",
   "id": "d57b6a84",
   "metadata": {},
   "source": [
    "<a name='ex-5'></a>\n",
    "### Exercise 5 - switch_letter\n",
    "\n",
    "**Instructions for switch_letter()**: Now implement a function that switches two letters in a word. It takes in a word and returns a list of all the possible switches of two letters **that are adjacent to each other**. \n",
    "- For example, given the word 'eta', it returns {'eat', 'tea'}, but does not return 'ate'.\n",
    "\n",
    "**Step 1:** is the same as in delete_letter()  \n",
    "**Step 2:** A list comprehension or for loop which forms strings by swapping adjacent letters. This is of the form:  \n",
    "`[f(L,R) for L, R in splits if condition]`  where 'condition' will test the length of R in a given iteration. See below."
   ]
  },
  {
   "cell_type": "code",
   "execution_count": 75,
   "id": "79ae5e74",
   "metadata": {},
   "outputs": [],
   "source": [
    "switch_letter: { s::x;{@[s;x;:;s[reverse x]]}'[({(x+til 2)}'[til ((count s)-1)])]}"
   ]
  },
  {
   "cell_type": "code",
   "execution_count": 79,
   "id": "935244e8",
   "metadata": {},
   "outputs": [
    {
     "data": {
      "text/plain": [
       "\"tea\"\n",
       "\"eat\"\n"
      ]
     },
     "execution_count": 79,
     "metadata": {},
     "output_type": "execute_result"
    }
   ],
   "source": [
    "switch_letter \"eta\""
   ]
  },
  {
   "cell_type": "code",
   "execution_count": null,
   "id": "bd83b0c2",
   "metadata": {},
   "outputs": [],
   "source": []
  },
  {
   "cell_type": "markdown",
   "id": "263a1e12",
   "metadata": {},
   "source": [
    "<a name='ex-6'></a>\n",
    "## replace_letter\n",
    "**Instructions for replace_letter()**: Now implement a function that takes in a word and returns a list of strings with one **replaced letter** from the original word. \n",
    "\n",
    "**Step 1:** is the same as in `delete_letter()`\n",
    "\n",
    "**Step 2:** A list comprehension or for loop which form strings by replacing letters.  This can be of the form:  \n",
    "`[f(a,b,c) for a, b in splits if condition for c in string]`   Note the use of the second for loop.  \n",
    "It is expected in this routine that one or more of the replacements will include the original word. For example, replacing the first letter of 'ear' with 'e' will return 'ear'.\n",
    "\n",
    "**Step 3:** Remove the original input letter from the output."
   ]
  },
  {
   "cell_type": "code",
   "execution_count": 103,
   "id": "d83c3a42",
   "metadata": {},
   "outputs": [],
   "source": [
    "replace_letter:{s::x;{{@[s;x;:;y]}'[x;.Q.a]}'[til (count s)]}"
   ]
  },
  {
   "cell_type": "code",
   "execution_count": 106,
   "id": "86be10a5",
   "metadata": {},
   "outputs": [
    {
     "data": {
      "text/plain": [
       "\"aan\"\n",
       "\"ban\"\n",
       "\"dan\"\n",
       "\"ean\"\n",
       "\"fan\"\n",
       "\"gan\"\n",
       "\"han\"\n",
       "\"ian\"\n",
       "\"jan\"\n",
       "\"kan\"\n",
       "\"lan\"\n",
       "\"man\"\n",
       "\"nan\"\n",
       "\"oan\"\n",
       "\"pan\"\n",
       "\"qan\"\n",
       "\"ran\"\n",
       "\"san\"\n",
       "\"tan\"\n",
       "\"uan\"\n",
       "\"van\"\n",
       "\"wan\"\n",
       "..\n"
      ]
     },
     "execution_count": 106,
     "metadata": {},
     "output_type": "execute_result"
    }
   ],
   "source": [
    "(raze (replace_letter \"can\")) except enlist\"can\""
   ]
  },
  {
   "cell_type": "code",
   "execution_count": null,
   "id": "f73cb4bd",
   "metadata": {},
   "outputs": [],
   "source": []
  },
  {
   "cell_type": "code",
   "execution_count": null,
   "id": "5c917d02",
   "metadata": {},
   "outputs": [],
   "source": []
  }
 ],
 "metadata": {
  "kernelspec": {
   "display_name": "Q (kdb+)",
   "language": "q",
   "name": "qpk"
  },
  "language_info": {
   "file_extension": ".q",
   "mimetype": "text/x-q",
   "name": "q",
   "version": "4.0"
  }
 },
 "nbformat": 4,
 "nbformat_minor": 5
}
