{
 "cells": [
  {
   "cell_type": "markdown",
   "id": "2e756876",
   "metadata": {},
   "source": [
    "## Auto Correct"
   ]
  },
  {
   "cell_type": "markdown",
   "id": "7c9fc42e",
   "metadata": {},
   "source": [
    "## Data Processing"
   ]
  },
  {
   "cell_type": "code",
   "execution_count": 1,
   "id": "2075842a",
   "metadata": {},
   "outputs": [],
   "source": [
    "/ Load the shakespeare.txt file from Data folder\n",
    "\n",
    "/Note our corpus going to be based on this text file only. \n",
    "/This model won't suggest the word, apart from this text file\n",
    "\n",
    "word_l: read0 `:./../data/shakespeare.txt\n",
    "\n",
    "alpha_chars : ((.Q.a),(.Q.n),(\"_\"));\n",
    "punctuations:\"!@#$%^&*()?:;,.`~<>+\\\"={|}/'\";\n",
    "word_l:(\" \" sv word_l)\n",
    "\n",
    "/preprocessing. Extract the each word from the text file and build frequency table.\n",
    "word_l:ssr/[word_l;punctuations;\" \"]\n",
    "word_l: \" \" vs word_l\n",
    "word_l: `$(lower(word_l except enlist\"\"))"
   ]
  },
  {
   "cell_type": "code",
   "execution_count": 2,
   "id": "321ca483",
   "metadata": {},
   "outputs": [],
   "source": [
    "/Get count function\n",
    "\n",
    "word_count_dict:count each group word_l\n",
    "probs: word_count_dict % (count word_count_dict)"
   ]
  },
  {
   "cell_type": "code",
   "execution_count": 276,
   "id": "4004bf5c",
   "metadata": {},
   "outputs": [
    {
     "data": {
      "text/plain": [
       "6314\n"
      ]
     },
     "execution_count": 276,
     "metadata": {},
     "output_type": "execute_result"
    }
   ],
   "source": [
    "count probs"
   ]
  },
  {
   "cell_type": "code",
   "execution_count": 277,
   "id": "a91e2064",
   "metadata": {},
   "outputs": [],
   "source": [
    "/We have 6.3k words in out corpus. If the user enter any of these misspelled words, it will suggest the correct\n",
    "/ or related word\n",
    "\n",
    "probs_table:([word:key probs] prob:(value probs))"
   ]
  },
  {
   "cell_type": "code",
   "execution_count": 241,
   "id": "00fc0e0e",
   "metadata": {},
   "outputs": [
    {
     "data": {
      "text/plain": [
       "word     | prob        \n",
       "---------| ------------\n",
       "o        | 0.02486538  \n",
       "for      | 0.07491289  \n",
       "a        | 0.118942    \n",
       "muse     | 0.002850808 \n",
       "of       | 0.172949    \n",
       "fire     | 0.003484321 \n",
       "that     | 0.1240101   \n",
       "would    | 0.02169781  \n",
       "ascend   | 0.0001583782\n",
       "the      | 0.2408933   \n",
       "brightest| 0.0003167564\n",
       "heaven   | 0.007602154 \n",
       "invention| 0.001425404 \n",
       "kingdom  | 0.0009502692\n",
       "stage    | 0.0004751346\n",
       "princes  | 0.0006335128\n",
       "to       | 0.1837187   \n",
       "act      | 0.005543237 \n",
       "and      | 0.2207792   \n",
       "monarchs | 0.0003167564\n",
       "..\n"
      ]
     },
     "execution_count": 241,
     "metadata": {},
     "output_type": "execute_result"
    }
   ],
   "source": [
    "probs_table"
   ]
  },
  {
   "cell_type": "markdown",
   "id": "8c04df10",
   "metadata": {},
   "source": [
    "<a name='2'></a>\n",
    "## String Manipulations\n",
    "\n",
    "Compute the $P(w_i)$ for all the words in the corpus, have to write a few functions to manipulate strings so that we can edit the erroneous strings and return the right spellings of the words.\n",
    "\n",
    "* `delete_letter`: given a word, it returns all the possible strings that have **one character removed**. \n",
    "* `switch_letter`: given a word, it returns all the possible strings that have **two adjacent letters switched**.\n",
    "* `replace_letter`: given a word, it returns all the possible strings that have **one character replaced by another different letter**.\n",
    "* `insert_letter`: given a word, it returns all the possible strings that have an **additional character inserted**. \n"
   ]
  },
  {
   "cell_type": "markdown",
   "id": "a1222cfc",
   "metadata": {},
   "source": [
    "<a name='ex-4'></a>\n",
    "### delete_letter\n",
    "\n",
    "**Idelete_letter():** Implement a `delete_letter()` function that, given a word, returns a list of strings with one character deleted. \n",
    "\n",
    "For example, given the word **nice**, it would return the set: {'ice', 'nce', 'nic', 'nie'}. "
   ]
  },
  {
   "cell_type": "code",
   "execution_count": 158,
   "id": "f4391c68",
   "metadata": {},
   "outputs": [],
   "source": [
    "delete_letter: {$[(count x) > 1;(x except/: (x));\"\"]}"
   ]
  },
  {
   "cell_type": "code",
   "execution_count": 150,
   "id": "3cef6421",
   "metadata": {},
   "outputs": [
    {
     "data": {
      "text/plain": [
       "\"ans\"\n",
       "\"cns\"\n",
       "\"cas\"\n",
       "\"can\"\n"
      ]
     },
     "execution_count": 150,
     "metadata": {},
     "output_type": "execute_result"
    }
   ],
   "source": [
    "delete_letter \"cans\""
   ]
  },
  {
   "cell_type": "code",
   "execution_count": 151,
   "id": "d95a6adf",
   "metadata": {},
   "outputs": [
    {
     "data": {
      "text/plain": [
       ",\"t\"\n",
       ",\"a\"\n"
      ]
     },
     "execution_count": 151,
     "metadata": {},
     "output_type": "execute_result"
    }
   ],
   "source": [
    "delete_letter \"at\""
   ]
  },
  {
   "cell_type": "markdown",
   "id": "d57b6a84",
   "metadata": {},
   "source": [
    "<a name='ex-5'></a>\n",
    "### switch_letter\n",
    "\n",
    "**switch_letter()**: a function that switches two letters in a word. It takes in a word and returns a list of all the possible switches of two letters **that are adjacent to each other**. \n",
    "- For example, given the word 'eta', it returns {'eat', 'tea'}, but does not return 'ate'."
   ]
  },
  {
   "cell_type": "code",
   "execution_count": 6,
   "id": "79ae5e74",
   "metadata": {},
   "outputs": [],
   "source": [
    "switch_letter: { s::x;{@[s;x;:;s[reverse x]]}'[({(x+til 2)}'[til ((count s)-1)])]}"
   ]
  },
  {
   "cell_type": "code",
   "execution_count": 7,
   "id": "935244e8",
   "metadata": {},
   "outputs": [
    {
     "data": {
      "text/plain": [
       "\"tea\"\n",
       "\"eat\"\n"
      ]
     },
     "execution_count": 7,
     "metadata": {},
     "output_type": "execute_result"
    }
   ],
   "source": [
    "switch_letter \"eta\""
   ]
  },
  {
   "cell_type": "code",
   "execution_count": 25,
   "id": "bd83b0c2",
   "metadata": {},
   "outputs": [
    {
     "data": {
      "text/plain": [
       "\"esnthil\"\n",
       "\"snethil\"\n",
       "\"setnhil\"\n",
       "\"senhtil\"\n",
       "\"sentihl\"\n",
       "\"senthli\"\n"
      ]
     },
     "execution_count": 25,
     "metadata": {},
     "output_type": "execute_result"
    }
   ],
   "source": [
    "switch_letter \"senthil\""
   ]
  },
  {
   "cell_type": "markdown",
   "id": "263a1e12",
   "metadata": {},
   "source": [
    "<a name='ex-6'></a>\n",
    "### replace_letter\n",
    "**replace_letter()**: a function that takes in a word and returns a list of strings with one **replaced letter** from the original word. "
   ]
  },
  {
   "cell_type": "code",
   "execution_count": 15,
   "id": "d83c3a42",
   "metadata": {},
   "outputs": [],
   "source": [
    "replace:{s::x;{{@[s;x;:;y]}'[x;.Q.a]}'[til (count s)]}"
   ]
  },
  {
   "cell_type": "code",
   "execution_count": 155,
   "id": "86be10a5",
   "metadata": {},
   "outputs": [],
   "source": [
    "replace_letter: {$[(count x)>1;((raze (replace x)) except enlist x);x]}"
   ]
  },
  {
   "cell_type": "code",
   "execution_count": 156,
   "id": "f73cb4bd",
   "metadata": {},
   "outputs": [
    {
     "data": {
      "text/plain": [
       "\"aan\"\n",
       "\"ban\"\n",
       "\"dan\"\n",
       "\"ean\"\n",
       "\"fan\"\n",
       "\"gan\"\n",
       "\"han\"\n",
       "\"ian\"\n",
       "\"jan\"\n",
       "\"kan\"\n",
       "\"lan\"\n",
       "\"man\"\n",
       "\"nan\"\n",
       "\"oan\"\n",
       "\"pan\"\n",
       "\"qan\"\n",
       "\"ran\"\n",
       "\"san\"\n",
       "\"tan\"\n",
       "\"uan\"\n",
       "\"van\"\n",
       "\"wan\"\n",
       "..\n"
      ]
     },
     "execution_count": 156,
     "metadata": {},
     "output_type": "execute_result"
    }
   ],
   "source": [
    "replace_letter \"can\""
   ]
  },
  {
   "cell_type": "code",
   "execution_count": 153,
   "id": "5c917d02",
   "metadata": {},
   "outputs": [
    {
     "data": {
      "text/plain": [
       "50\n"
      ]
     },
     "execution_count": 153,
     "metadata": {},
     "output_type": "execute_result"
    }
   ],
   "source": [
    "count replace_letter \"at\""
   ]
  },
  {
   "cell_type": "markdown",
   "id": "f83f3c99",
   "metadata": {},
   "source": [
    "<a name='ex-7'></a>\n",
    "###  Insert_letter\n",
    "\n",
    "**Instructions for insert_letter()**: a function that takes in a word and returns a list with a letter inserted at every offset.\n"
   ]
  },
  {
   "cell_type": "code",
   "execution_count": 278,
   "id": "7898271f",
   "metadata": {},
   "outputs": [],
   "source": [
    "/You may get confusion on insert_letter function"
   ]
  },
  {
   "cell_type": "code",
   "execution_count": 131,
   "id": "754e4275",
   "metadata": {},
   "outputs": [],
   "source": [
    "/This function will give the split index. Between these index the new letter will be added.\n",
    "cutt: {[x;y] ((til x);(x _ (til y)))}"
   ]
  },
  {
   "cell_type": "code",
   "execution_count": 132,
   "id": "7f61cbb0",
   "metadata": {},
   "outputs": [],
   "source": [
    "/Split the word into two part based on cutt function index.\n",
    "split:{s::x;{s@cutt[x;count s]}'[til (count s)+1]}"
   ]
  },
  {
   "cell_type": "code",
   "execution_count": 279,
   "id": "2f2b6a18",
   "metadata": {},
   "outputs": [],
   "source": [
    "/ This function will handle the single word like \"a\",\"i\",\"u\".\n",
    "single_letter_handling:{enlist (((cross/) (x;.Q.a)) union ((cross/) (.Q.a;x)))}"
   ]
  },
  {
   "cell_type": "code",
   "execution_count": 281,
   "id": "652701dd",
   "metadata": {},
   "outputs": [],
   "source": [
    "/ In this inserting function, the new word will be going to add between the splited words.\n",
    "/Ex: can --> \"c\",\"an\" --> \"c\",\"a\"[new_letter],\"an\" -> \"caan\" \n",
    "/can --> \"c\",\"an\" --> \"c\",\"l\"[new_letter],\"an\"  --> \"clan\"\n",
    "/ may --> \"m\",\"ay\" --> \"m\",\"r\",\"ay\" -> \"mray\"\n",
    "/..\n",
    "/..\n",
    "/ may --> \"ma\",\"y\" --> \"ma\",\"n\",\"y\" --> \"many\"\n",
    "inserting: {$[(count x) > 1;{[wrd] ((cross/) (enlist wrd[0];.Q.a;enlist wrd[1]))}'[split x];single_letter_handling x]}\n",
    "\n",
    "insert_letter:{raze (inserting x)}"
   ]
  },
  {
   "cell_type": "code",
   "execution_count": 185,
   "id": "946a207f",
   "metadata": {},
   "outputs": [
    {
     "data": {
      "text/plain": [
       "\"aat\"\n",
       "\"bat\"\n",
       "\"cat\"\n",
       "\"dat\"\n",
       "\"eat\"\n",
       "\"fat\"\n",
       "\"gat\"\n",
       "\"hat\"\n",
       "\"iat\"\n",
       "\"jat\"\n",
       "\"kat\"\n",
       "\"lat\"\n",
       "\"mat\"\n",
       "\"nat\"\n",
       "\"oat\"\n",
       "\"pat\"\n",
       "\"qat\"\n",
       "\"rat\"\n",
       "\"sat\"\n",
       "\"tat\"\n",
       "\"uat\"\n",
       "\"vat\"\n",
       "..\n"
      ]
     },
     "execution_count": 185,
     "metadata": {},
     "output_type": "execute_result"
    }
   ],
   "source": [
    "insert_letter \"at\""
   ]
  },
  {
   "cell_type": "code",
   "execution_count": 186,
   "id": "7e5df029",
   "metadata": {},
   "outputs": [
    {
     "data": {
      "text/plain": [
       "51\n"
      ]
     },
     "execution_count": 186,
     "metadata": {},
     "output_type": "execute_result"
    }
   ],
   "source": [
    "count insert_letter \"a\""
   ]
  },
  {
   "cell_type": "markdown",
   "id": "c66c6162",
   "metadata": {},
   "source": [
    "<a name='3'></a>\n",
    "## Combining the Edits\n",
    "\n",
    "Then create two functions that, given a string, will return all the possible single and double edits on that string. These will be `edit_one_letter()` and `edit_two_letters()`."
   ]
  },
  {
   "cell_type": "markdown",
   "id": "84357141",
   "metadata": {},
   "source": [
    "<a name='3-1'></a>\n",
    "### Edit One Letter\n",
    "\n",
    "<a name='ex-8'></a>\n",
    "### edit_one_letter\n",
    "\n",
    "the `edit_one_letter` function to get all the possible edits that are one edit away from a word. The edits  consist of the replace, insert, delete, and optionally the switch operation. The 'switch' function  is a less common edit function, so its use will be selected by an \"allow_switches\" input argument.\n"
   ]
  },
  {
   "cell_type": "code",
   "execution_count": 296,
   "id": "47569e28",
   "metadata": {},
   "outputs": [],
   "source": [
    "/Combine the all possible ways like switch, replace, delete, insert\n",
    "\n",
    "edit_one_letter:{[x;f]\n",
    "    switch_let:$[f;switch_letter[x];()];\n",
    "    rep_let: replace_letter[x];\n",
    "    del_let:delete_letter[x];\n",
    "    ins_let:insert_letter[x];\n",
    "    :(switch_let union del_let union del_let union ins_let)\n",
    "    }"
   ]
  },
  {
   "cell_type": "code",
   "execution_count": 148,
   "id": "4247042a",
   "metadata": {},
   "outputs": [
    {
     "data": {
      "text/plain": [
       "106\n"
      ]
     },
     "execution_count": 148,
     "metadata": {},
     "output_type": "execute_result"
    }
   ],
   "source": [
    "count edit_one_letter [\"can\";1b]"
   ]
  },
  {
   "cell_type": "code",
   "execution_count": 282,
   "id": "760937d6",
   "metadata": {},
   "outputs": [
    {
     "data": {
      "text/plain": [
       "51\n"
      ]
     },
     "execution_count": 282,
     "metadata": {},
     "output_type": "execute_result"
    }
   ],
   "source": [
    "count edit_one_letter [\"a\";1b]"
   ]
  },
  {
   "cell_type": "markdown",
   "id": "ff96ff18",
   "metadata": {},
   "source": [
    "<a name='3-2'></a>\n",
    "###  Edit Two Letters\n",
    "\n",
    "<a name='ex-9'></a>\n",
    "### edit_two_letters\n",
    "\n",
    "the `edit_two_letters` function that returns a set of words that are two edits away. Note that creating additional edits based on the `edit_one_letter` function may 'restore' some one_edits to zero or one edits. That is allowed here. This is accounted for in get_corrections."
   ]
  },
  {
   "cell_type": "code",
   "execution_count": 284,
   "id": "5e3c44fb",
   "metadata": {},
   "outputs": [],
   "source": [
    "edit_two_letters:{[x;f]\n",
    "    ittr1:distinct(edit_one_letter[x;f]);\n",
    "    ittr2:edit_one_letter'[ittr1;]f;\n",
    "    :(ittr1 union (asc distinct (raze ittr2)) )except enlist\"\"\n",
    "    }"
   ]
  },
  {
   "cell_type": "code",
   "execution_count": 285,
   "id": "3081af2c",
   "metadata": {},
   "outputs": [
    {
     "data": {
      "text/plain": [
       "\"aa\"\n",
       "\"ab\"\n",
       "\"ac\"\n",
       "\"ad\"\n",
       "\"ae\"\n",
       "\"af\"\n",
       "\"ag\"\n",
       "\"ah\"\n",
       "\"ai\"\n",
       "\"aj\"\n",
       "\"ak\"\n",
       "\"al\"\n",
       "\"am\"\n",
       "\"an\"\n",
       "\"ao\"\n",
       "\"ap\"\n",
       "\"aq\"\n",
       "\"ar\"\n",
       "\"as\"\n",
       "\"at\"\n",
       "\"au\"\n",
       "\"av\"\n",
       "..\n"
      ]
     },
     "execution_count": 285,
     "metadata": {},
     "output_type": "execute_result"
    }
   ],
   "source": [
    "edit_two_letters[\"a\";1b]"
   ]
  },
  {
   "cell_type": "code",
   "execution_count": 283,
   "id": "b6da8495",
   "metadata": {},
   "outputs": [
    {
     "data": {
      "text/plain": [
       "2028\n"
      ]
     },
     "execution_count": 283,
     "metadata": {},
     "output_type": "execute_result"
    }
   ],
   "source": [
    "count edit_two_letters[\"a\";1b]"
   ]
  },
  {
   "cell_type": "markdown",
   "id": "40f3365f",
   "metadata": {},
   "source": [
    "<a name='3-3'></a>\n",
    "### Suggest Spelling Suggestions\n",
    "\n",
    "Now we can use `edit_two_letters` function to get a set of all the possible 2 edits on our corpus. then use those strings to get the most probable word user meant to type a.k.a typing suggestion.\n",
    "\n",
    "<a name='ex-10'></a>\n",
    "### get_corrections\n",
    "The `get_corrections`, which returns a list of zero to n possible suggestion table form (word, probability_of_word). The top word will have high probability.\n",
    "\n",
    "Generate suggestions for a supplied word: The 'suggestion algorithm' should follow this logic: \n",
    "* If the word is in the vocabulary, suggest the word. \n",
    "* Otherwise, if there are suggestions from `edit_one_letter` that are in the vocabulary, use those. \n",
    "* Otherwise, if there are suggestions from `edit_two_letters` that are in the vocabulary, use those. \n",
    "* Otherwise, suggest the input word.*  \n",
    "* The idea is that words generated from fewer edits are more likely than words with more edits.\n",
    "\n"
   ]
  },
  {
   "cell_type": "code",
   "execution_count": 231,
   "id": "7bbbe5f7",
   "metadata": {},
   "outputs": [
    {
     "data": {
      "text/plain": [
       "o        | 0.02486538\n",
       "for      | 0.07491289\n",
       "a        | 0.118942\n",
       "muse     | 0.002850808\n",
       "of       | 0.172949\n",
       "fire     | 0.003484321\n",
       "that     | 0.1240101\n",
       "would    | 0.02169781\n",
       "ascend   | 0.0001583782\n",
       "the      | 0.2408933\n",
       "brightest| 0.0003167564\n",
       "heaven   | 0.007602154\n",
       "invention| 0.001425404\n",
       "kingdom  | 0.0009502692\n",
       "stage    | 0.0004751346\n",
       "princes  | 0.0006335128\n",
       "to       | 0.1837187\n",
       "act      | 0.005543237\n",
       "and      | 0.2207792\n",
       "monarchs | 0.0003167564\n",
       "behold   | 0.002058917\n",
       "swelling | 0.0001583782\n",
       "..\n"
      ]
     },
     "execution_count": 231,
     "metadata": {},
     "output_type": "execute_result"
    }
   ],
   "source": [
    "probs"
   ]
  },
  {
   "cell_type": "code",
   "execution_count": 417,
   "id": "8f94119f",
   "metadata": {},
   "outputs": [],
   "source": [
    "get_corrections:{\n",
    "    words_list: `$(edit_two_letters[x;1b]);\n",
    "    :(`prob xdesc select from probs_table where word in words_list)\n",
    "    };\n",
    "\n",
    "\n",
    "get_corrections_1:{\n",
    "    words_list: `$(edit_two_letters[x;1b]);\n",
    "    res:string ((exec word from (`prob xdesc select from probs_table where word in words_list))[0]);\n",
    "    /$[`$res = `;x;res];\n",
    "    :res\n",
    "    };\n",
    "\n"
   ]
  },
  {
   "cell_type": "code",
   "execution_count": 347,
   "id": "aeca9858",
   "metadata": {},
   "outputs": [
    {
     "data": {
      "text/plain": [
       "word  | prob        \n",
       "------| ------------\n",
       "simple| 0.001108647 \n",
       "simply| 0.0004751346\n"
      ]
     },
     "execution_count": 347,
     "metadata": {},
     "output_type": "execute_result"
    }
   ],
   "source": [
    "get_corrections \"smpl\""
   ]
  },
  {
   "cell_type": "code",
   "execution_count": 348,
   "id": "1787e17b",
   "metadata": {},
   "outputs": [
    {
     "data": {
      "text/plain": [
       "word | prob        \n",
       "-----| ------------\n",
       "i    | 0.2001901   \n",
       "him  | 0.04339563  \n",
       "image| 0.0006335128\n",
       "aim  | 0.0004751346\n",
       "big  | 0.0003167564\n",
       "m    | 0.0001583782\n"
      ]
     },
     "execution_count": 348,
     "metadata": {},
     "output_type": "execute_result"
    }
   ],
   "source": [
    "/Usualy in our mobile phone, they suggest top three words\n",
    "get_corrections \"img\""
   ]
  },
  {
   "cell_type": "code",
   "execution_count": 350,
   "id": "2d1d3e70",
   "metadata": {},
   "outputs": [
    {
     "data": {
      "text/plain": [
       "word  | prob       \n",
       "------| -----------\n",
       "travel| 0.001108647\n"
      ]
     },
     "execution_count": 350,
     "metadata": {},
     "output_type": "execute_result"
    }
   ],
   "source": [
    "get_corrections \"trvl\""
   ]
  },
  {
   "cell_type": "code",
   "execution_count": 419,
   "id": "d0c1ddcd",
   "metadata": {},
   "outputs": [],
   "source": [
    "/Let's add on sentence\n",
    "sentenct_auto_correct:{\n",
    "    x: \" \" vs x;\n",
    "    x: (get_corrections_1'[x]);\n",
    "    x:(\" \" sv x);\n",
    "    :x\n",
    "    }"
   ]
  },
  {
   "cell_type": "code",
   "execution_count": null,
   "id": "ee59fc8a",
   "metadata": {},
   "outputs": [],
   "source": []
  },
  {
   "cell_type": "code",
   "execution_count": null,
   "id": "09733c74",
   "metadata": {},
   "outputs": [],
   "source": []
  },
  {
   "cell_type": "code",
   "execution_count": 420,
   "id": "135209ce",
   "metadata": {},
   "outputs": [
    {
     "data": {
      "text/plain": [
       "\"welcome every no\"\n"
      ]
     },
     "execution_count": 420,
     "metadata": {},
     "output_type": "execute_result"
    }
   ],
   "source": [
    "sentenct_auto_correct \"welcme evry one\""
   ]
  },
  {
   "cell_type": "code",
   "execution_count": null,
   "id": "dad88fc1",
   "metadata": {},
   "outputs": [],
   "source": []
  },
  {
   "cell_type": "code",
   "execution_count": null,
   "id": "d3cb70c6",
   "metadata": {},
   "outputs": [],
   "source": []
  }
 ],
 "metadata": {
  "kernelspec": {
   "display_name": "Q (kdb+)",
   "language": "q",
   "name": "qpk"
  },
  "language_info": {
   "file_extension": ".q",
   "mimetype": "text/x-q",
   "name": "q",
   "version": "4.0"
  }
 },
 "nbformat": 4,
 "nbformat_minor": 5
}
